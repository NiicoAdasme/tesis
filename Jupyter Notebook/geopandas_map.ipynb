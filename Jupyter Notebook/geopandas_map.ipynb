{
 "cells": [
  {
   "cell_type": "markdown",
   "id": "67520a5d",
   "metadata": {},
   "source": [
    "## Import libraries\n",
    "We gonna use pandas, geopandas, pyproj, matplotlib and shapely libaries"
   ]
  },
  {
   "cell_type": "code",
   "execution_count": 1,
   "id": "f4ac18b5",
   "metadata": {},
   "outputs": [],
   "source": [
    "import pandas as pd\n",
    "#import numpy as np\n",
    "import geopandas as gpd\n",
    "#from pyproj import CRS\n",
    "import pyproj\n",
    "import matplotlib.pyplot as plt\n",
    "from shapely.geometry import Point"
   ]
  },
  {
   "cell_type": "markdown",
   "id": "25497527",
   "metadata": {},
   "source": [
    "## Read CSV\n",
    "Load the data from csv file"
   ]
  },
  {
   "cell_type": "code",
   "execution_count": 2,
   "id": "7cde9b31",
   "metadata": {},
   "outputs": [],
   "source": [
    "df = pd.read_csv('C:\\\\Users\\\\Nico\\\\Desktop\\\\Tesis-teton\\\\ihf.csv')"
   ]
  },
  {
   "cell_type": "markdown",
   "id": "b61a5a77",
   "metadata": {},
   "source": [
    "## Define column's of the dataframe"
   ]
  },
  {
   "cell_type": "code",
   "execution_count": 3,
   "id": "834f06fb",
   "metadata": {},
   "outputs": [
    {
     "name": "stdout",
     "output_type": "stream",
     "text": [
      "          lat     lon   ih\n",
      "0     -55.975 -67.675  0.0\n",
      "1     -55.975 -67.625  0.0\n",
      "2     -55.975 -67.575  0.0\n",
      "3     -55.975 -67.425  0.0\n",
      "4     -55.975 -67.375  0.0\n",
      "...       ...     ...  ...\n",
      "59752 -17.275 -68.675  1.0\n",
      "59753 -17.275 -68.625  1.0\n",
      "59754 -17.275 -68.575  1.0\n",
      "59755 -17.275 -68.525  1.0\n",
      "59756 -17.275 -68.475  1.0\n",
      "\n",
      "[59757 rows x 3 columns]\n"
     ]
    }
   ],
   "source": [
    "df = df[['lat', 'lon', 'ih']]\n",
    "print(df)"
   ]
  },
  {
   "cell_type": "markdown",
   "id": "509011b2",
   "metadata": {},
   "source": [
    "## Import shapefile"
   ]
  },
  {
   "cell_type": "code",
   "execution_count": 6,
   "id": "aa754459",
   "metadata": {},
   "outputs": [
    {
     "ename": "AttributeError",
     "evalue": "module 'geopandas' has no attribute 'read_file'",
     "output_type": "error",
     "traceback": [
      "\u001b[1;31m---------------------------------------------------------------------------\u001b[0m",
      "\u001b[1;31mAttributeError\u001b[0m                            Traceback (most recent call last)",
      "\u001b[1;32m~\\AppData\\Local\\Temp\\ipykernel_3728\\4030006986.py\u001b[0m in \u001b[0;36m<module>\u001b[1;34m\u001b[0m\n\u001b[1;32m----> 1\u001b[1;33m \u001b[0mkings_county_map\u001b[0m \u001b[1;33m=\u001b[0m \u001b[0mgpd\u001b[0m\u001b[1;33m.\u001b[0m\u001b[0mread_file\u001b[0m\u001b[1;33m(\u001b[0m\u001b[1;34m'C:\\\\Users\\\\Nico\\\\Desktop\\\\Tesis-teton\\\\Regiones\\\\Regional.shp'\u001b[0m\u001b[1;33m)\u001b[0m\u001b[1;33m\u001b[0m\u001b[1;33m\u001b[0m\u001b[0m\n\u001b[0m",
      "\u001b[1;31mAttributeError\u001b[0m: module 'geopandas' has no attribute 'read_file'"
     ]
    }
   ],
   "source": [
    "kings_county_map = gpd.read_file('C:\\\\Users\\\\Nico\\\\Desktop\\\\Tesis-teton\\\\Regiones\\\\Regional.shp')"
   ]
  },
  {
   "cell_type": "markdown",
   "id": "17b96c5f",
   "metadata": {},
   "source": [
    "## Plot"
   ]
  },
  {
   "cell_type": "code",
   "execution_count": null,
   "id": "542d41c3",
   "metadata": {
    "scrolled": true
   },
   "outputs": [],
   "source": [
    "kings_county_map.plot()"
   ]
  },
  {
   "cell_type": "markdown",
   "id": "91a1530e",
   "metadata": {},
   "source": [
    "## CRS EPSG:4326"
   ]
  },
  {
   "cell_type": "code",
   "execution_count": null,
   "id": "286680ce",
   "metadata": {},
   "outputs": [],
   "source": [
    "kings_county_map.to_crs(epsg=4326).plot()\n",
    "crs = {'init':'EPSG:4326'}"
   ]
  },
  {
   "cell_type": "markdown",
   "id": "da85c1b6",
   "metadata": {},
   "source": [
    "## Geometry"
   ]
  },
  {
   "cell_type": "code",
   "execution_count": null,
   "id": "7832b532",
   "metadata": {},
   "outputs": [],
   "source": [
    "geometry = [Point(xy) for xy in zip(df['lon'], df['lat'])]"
   ]
  },
  {
   "cell_type": "markdown",
   "id": "de1abc89",
   "metadata": {},
   "source": [
    "## GeoDataframe"
   ]
  },
  {
   "cell_type": "code",
   "execution_count": null,
   "id": "cc472d40",
   "metadata": {},
   "outputs": [],
   "source": [
    "geo_df = gpd.GeoDataFrame(df, crs = crs, geometry = geometry)\n",
    "\n",
    "geo_df['ih']"
   ]
  },
  {
   "cell_type": "code",
   "execution_count": null,
   "id": "26197cc3",
   "metadata": {},
   "outputs": [],
   "source": [
    "fig, ax = plt.subplots(figsize = (100,40))"
   ]
  },
  {
   "cell_type": "code",
   "execution_count": null,
   "id": "e1629b0c",
   "metadata": {},
   "outputs": [],
   "source": [
    "kings_county_map.to_crs(epsg=4326).plot(ax=ax, color='lightgrey')"
   ]
  },
  {
   "cell_type": "markdown",
   "id": "89b6da21",
   "metadata": {},
   "source": [
    "## Plot of the geodataframe"
   ]
  },
  {
   "cell_type": "code",
   "execution_count": null,
   "id": "fb1ff5f2",
   "metadata": {},
   "outputs": [],
   "source": [
    "geo_df.plot(column = 'ih', ax=ax, cmap = 'rainbow',\n",
    "            legend = True, legend_kwds={'shrink': 0.3}, \n",
    "            markersize = 50)"
   ]
  },
  {
   "cell_type": "markdown",
   "id": "3cd98fac",
   "metadata": {},
   "source": [
    "## Set a title and save the image"
   ]
  },
  {
   "cell_type": "code",
   "execution_count": null,
   "id": "76848a29",
   "metadata": {
    "scrolled": true
   },
   "outputs": [],
   "source": [
    "ax.set_title('Indice de Riesgo Hidrico')\n",
    "\n",
    "plt.savefig('Heat Map')\n",
    "geo_df"
   ]
  }
 ],
 "metadata": {
  "kernelspec": {
   "display_name": "Python 3 (ipykernel)",
   "language": "python",
   "name": "python3"
  },
  "language_info": {
   "codemirror_mode": {
    "name": "ipython",
    "version": 3
   },
   "file_extension": ".py",
   "mimetype": "text/x-python",
   "name": "python",
   "nbconvert_exporter": "python",
   "pygments_lexer": "ipython3",
   "version": "3.9.13"
  }
 },
 "nbformat": 4,
 "nbformat_minor": 5
}
