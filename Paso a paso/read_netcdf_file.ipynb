{
 "cells": [
  {
   "cell_type": "markdown",
   "id": "e44ff2fc",
   "metadata": {},
   "source": [
    "## Importar libreria"
   ]
  },
  {
   "cell_type": "code",
   "execution_count": 5,
   "id": "4652ae82",
   "metadata": {},
   "outputs": [],
   "source": [
    "import netCDF4 as nc\n",
    "import numpy as np\n",
    "import pandas as pd"
   ]
  },
  {
   "cell_type": "markdown",
   "id": "2b281ef6",
   "metadata": {},
   "source": [
    "## Importar archivos NetCDF "
   ]
  },
  {
   "cell_type": "code",
   "execution_count": 3,
   "id": "4c9ec14a",
   "metadata": {},
   "outputs": [],
   "source": [
    "data_tmin = nc.Dataset(r'C:\\Users\\Nico\\Desktop\\ArchivosNetCDF\\CR2\\1979-2019\\CR2MET_tmin_v2.0_mon_1979_2019_005deg.nc')\n",
    "data_tmax = nc.Dataset(r'C:\\Users\\Nico\\Desktop\\ArchivosNetCDF\\CR2\\1979-2019\\CR2MET_tmax_v2.0_mon_1979_2019_005deg.nc')\n",
    "data_pr = nc.Dataset(r'C:\\Users\\Nico\\Desktop\\ArchivosNetCDF\\CR2\\1979-2019\\CR2MET_pr_v2.0_mon_1979_2019_005deg.nc')\n",
    "data_merged = nc.Dataset(r'C:\\Users\\Nico\\Desktop\\UBB\\2022-2\\Tesis\\archivo_combinado.nc')\n"
   ]
  },
  {
   "cell_type": "markdown",
   "id": "890e7547",
   "metadata": {},
   "source": [
    "### Variables del archivo NetCDF combinado"
   ]
  },
  {
   "cell_type": "code",
   "execution_count": 4,
   "id": "e49e89f1",
   "metadata": {},
   "outputs": [
    {
     "name": "stdout",
     "output_type": "stream",
     "text": [
      "{'lat': <class 'netCDF4._netCDF4.Variable'>\n",
      "float64 lat(lat)\n",
      "    _FillValue: nan\n",
      "    long_name: latitude\n",
      "    units: degrees_north\n",
      "unlimited dimensions: \n",
      "current shape = (800,)\n",
      "filling on, 'lon': <class 'netCDF4._netCDF4.Variable'>\n",
      "float64 lon(lon)\n",
      "    _FillValue: nan\n",
      "    long_name: longitude\n",
      "    units: degrees_east\n",
      "unlimited dimensions: \n",
      "current shape = (220,)\n",
      "filling on, 'time': <class 'netCDF4._netCDF4.Variable'>\n",
      "float64 time(time)\n",
      "    _FillValue: nan\n",
      "    long_name: time\n",
      "    units: months since 1978-12-15\n",
      "unlimited dimensions: \n",
      "current shape = (492,)\n",
      "filling on, 'tmin': <class 'netCDF4._netCDF4.Variable'>\n",
      "float32 tmin(time, lat, lon)\n",
      "    _FillValue: nan\n",
      "    long_name: mean daily minimum temperature\n",
      "    units: Celsius\n",
      "    missing_value: -9999.0\n",
      "unlimited dimensions: \n",
      "current shape = (492, 800, 220)\n",
      "filling on, 'tmax': <class 'netCDF4._netCDF4.Variable'>\n",
      "float32 tmax(time, lat, lon)\n",
      "    _FillValue: nan\n",
      "    long_name: mean daily maximum temperature\n",
      "    units: Celsius\n",
      "    missing_value: -9999.0\n",
      "unlimited dimensions: \n",
      "current shape = (492, 800, 220)\n",
      "filling on, 'pr': <class 'netCDF4._netCDF4.Variable'>\n",
      "float32 pr(time, lat, lon)\n",
      "    _FillValue: nan\n",
      "    long_name: precipitation\n",
      "    units: mm\n",
      "    missing_value: -9999.0\n",
      "unlimited dimensions: \n",
      "current shape = (492, 800, 220)\n",
      "filling on}\n"
     ]
    }
   ],
   "source": [
    "print(data_merged.variables)"
   ]
  }
 ],
 "metadata": {
  "kernelspec": {
   "display_name": "Python 3 (ipykernel)",
   "language": "python",
   "name": "python3"
  },
  "language_info": {
   "codemirror_mode": {
    "name": "ipython",
    "version": 3
   },
   "file_extension": ".py",
   "mimetype": "text/x-python",
   "name": "python",
   "nbconvert_exporter": "python",
   "pygments_lexer": "ipython3",
   "version": "3.9.13"
  }
 },
 "nbformat": 4,
 "nbformat_minor": 5
}
