{
 "cells": [
  {
   "cell_type": "markdown",
   "id": "c61496a9",
   "metadata": {},
   "source": [
    "### Importing librarys"
   ]
  },
  {
   "cell_type": "code",
   "execution_count": 2,
   "id": "c2d93b0f",
   "metadata": {},
   "outputs": [],
   "source": [
    "import xarray as xr"
   ]
  },
  {
   "cell_type": "code",
   "execution_count": 7,
   "id": "47ce1a77",
   "metadata": {},
   "outputs": [],
   "source": [
    "ds1 = xr.open_dataset(r'C:\\Users\\Nico\\Desktop\\ArchivosNetCDF\\CR2\\1979-2019\\CR2MET_tmin_v2.0_mon_1979_2019_005deg.nc', decode_times=False)\n",
    "ds2 = xr.open_dataset(r'C:\\Users\\Nico\\Desktop\\ArchivosNetCDF\\CR2\\1979-2019\\CR2MET_tmax_v2.0_mon_1979_2019_005deg.nc', decode_times=False)\n",
    "ds3 = xr.open_dataset(r'C:\\Users\\Nico\\Desktop\\ArchivosNetCDF\\CR2\\1979-2019\\CR2MET_pr_v2.0_mon_1979_2019_005deg.nc', decode_times=False)"
   ]
  },
  {
   "cell_type": "code",
   "execution_count": 6,
   "id": "7755714e",
   "metadata": {},
   "outputs": [],
   "source": [
    "combined_ds = xr.merge([ds1['tmin'], ds2['tmax'], ds3['pr']])"
   ]
  },
  {
   "cell_type": "code",
   "execution_count": 11,
   "id": "8884c168",
   "metadata": {},
   "outputs": [],
   "source": [
    "combined_ds.to_netcdf('archivo_combinado.nc')"
   ]
  }
 ],
 "metadata": {
  "kernelspec": {
   "display_name": "Python 3 (ipykernel)",
   "language": "python",
   "name": "python3"
  },
  "language_info": {
   "codemirror_mode": {
    "name": "ipython",
    "version": 3
   },
   "file_extension": ".py",
   "mimetype": "text/x-python",
   "name": "python",
   "nbconvert_exporter": "python",
   "pygments_lexer": "ipython3",
   "version": "3.9.13"
  }
 },
 "nbformat": 4,
 "nbformat_minor": 5
}
