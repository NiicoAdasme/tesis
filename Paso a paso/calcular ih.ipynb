{
 "cells": [
  {
   "cell_type": "markdown",
   "id": "e04f7985",
   "metadata": {},
   "source": [
    "### Importamos las librerias"
   ]
  },
  {
   "cell_type": "code",
   "execution_count": 24,
   "id": "b9203801",
   "metadata": {},
   "outputs": [],
   "source": [
    "import netCDF4 as nc\n",
    "import numpy as np\n",
    "import pandas as pd\n",
    "from datetime import datetime"
   ]
  },
  {
   "cell_type": "markdown",
   "id": "39fcb89d",
   "metadata": {},
   "source": [
    "### Funcion get_index_month_zone"
   ]
  },
  {
   "cell_type": "code",
   "execution_count": 7,
   "id": "fd210db0",
   "metadata": {},
   "outputs": [],
   "source": [
    "from WaterRiskIndex1 import get_index_month_zone"
   ]
  },
  {
   "cell_type": "markdown",
   "id": "ab05b4af",
   "metadata": {},
   "source": [
    "### Importamos el archivo NetCDF combinado con las 3 variables (tmin, tmax y pr)"
   ]
  },
  {
   "cell_type": "code",
   "execution_count": 8,
   "id": "a77cca98",
   "metadata": {},
   "outputs": [],
   "source": [
    "data = nc.Dataset(r'C:\\Users\\Nico\\Desktop\\UBB\\2022-2\\Tesis\\archivo_combinado.nc')"
   ]
  },
  {
   "cell_type": "markdown",
   "id": "c5569d75",
   "metadata": {},
   "source": [
    "### Se espera recibir una fecha determinada, coordenadas y la zona a buscar. En esta ocasion utilizamos la primera posicion tanto para la fecha como para las coordenadas"
   ]
  },
  {
   "cell_type": "code",
   "execution_count": 19,
   "id": "50f62f54",
   "metadata": {},
   "outputs": [],
   "source": [
    "ending_date = '1979-01-01'\n",
    "lat_interes = -56.975\n",
    "lon_interes = -76.925\n",
    "zona_interes = 12"
   ]
  },
  {
   "cell_type": "code",
   "execution_count": 10,
   "id": "1a1213db",
   "metadata": {},
   "outputs": [
    {
     "name": "stdout",
     "output_type": "stream",
     "text": [
      "1978-12-15\n"
     ]
    }
   ],
   "source": [
    "starting_date = data.variables['time'].units[13:23]\n",
    "print(starting_date)"
   ]
  },
  {
   "cell_type": "code",
   "execution_count": 11,
   "id": "0cf6df4f",
   "metadata": {},
   "outputs": [
    {
     "name": "stdout",
     "output_type": "stream",
     "text": [
      "DatetimeIndex(['1978-12-31'], dtype='datetime64[ns]', freq='M')\n",
      "Posicion a buscar:  1\n"
     ]
    }
   ],
   "source": [
    "date_range = pd.date_range(start= starting_date, end= ending_date, freq= 'M')\n",
    "pos_date = date_range.size\n",
    "print(date_range)\n",
    "print('Posicion a buscar: ', pos_date)"
   ]
  },
  {
   "cell_type": "markdown",
   "id": "f29ce048",
   "metadata": {},
   "source": [
    "### Calculamos la temperatura promedio para dicha fecha"
   ]
  },
  {
   "cell_type": "code",
   "execution_count": 12,
   "id": "1070a0e7",
   "metadata": {},
   "outputs": [
    {
     "name": "stdout",
     "output_type": "stream",
     "text": [
      "Temperatura minima:  8.821905\n"
     ]
    }
   ],
   "source": [
    "tmin = data.variables['tmin'][pos_date, lat_interes, lon_interes]\n",
    "print('Temperatura minima: ', tmin)"
   ]
  },
  {
   "cell_type": "code",
   "execution_count": 13,
   "id": "a74eca88",
   "metadata": {},
   "outputs": [
    {
     "name": "stdout",
     "output_type": "stream",
     "text": [
      "Temperatura maxima:  29.401964\n"
     ]
    }
   ],
   "source": [
    "tmax = data.variables['tmax'][pos_date, lat_interes, lon_interes]\n",
    "print('Temperatura maxima: ', tmax)"
   ]
  },
  {
   "cell_type": "code",
   "execution_count": 14,
   "id": "e64aaeb3",
   "metadata": {},
   "outputs": [
    {
     "name": "stdout",
     "output_type": "stream",
     "text": [
      "Temperatura promedio:  19.111934661865234\n"
     ]
    }
   ],
   "source": [
    "tprom = (tmin + tmax) / 2\n",
    "print('Temperatura promedio: ', tprom)"
   ]
  },
  {
   "cell_type": "code",
   "execution_count": 15,
   "id": "3444b6aa",
   "metadata": {},
   "outputs": [
    {
     "name": "stdout",
     "output_type": "stream",
     "text": [
      "Precipitacion:  0.0\n"
     ]
    }
   ],
   "source": [
    "pr = data.variables['pr'][pos_date, lat_interes, lon_interes]\n",
    "print('Precipitacion: ', pr)"
   ]
  },
  {
   "cell_type": "markdown",
   "id": "c556417e",
   "metadata": {},
   "source": [
    "### La funcion getIndexMonthZone nos entregara el indice hidrico en base a tprom, pr, fecha y zona"
   ]
  },
  {
   "cell_type": "code",
   "execution_count": 20,
   "id": "09cf1226",
   "metadata": {},
   "outputs": [
    {
     "name": "stdout",
     "output_type": "stream",
     "text": [
      "Tprom:  19.111934661865234\n",
      "pr:  0.0\n",
      "Fecha:  1979-01-01 | Posicion de la fecha:  1\n",
      "Zona:  12\n"
     ]
    }
   ],
   "source": [
    "print('Tprom: ', tprom)\n",
    "print('pr: ', pr)\n",
    "print('Fecha: ', ending_date, '| Posicion de la fecha: ', pos_date)\n",
    "print('Zona: ', zona_interes)"
   ]
  },
  {
   "cell_type": "markdown",
   "id": "f959a335",
   "metadata": {},
   "source": [
    "### Extraer mes de la fecha"
   ]
  },
  {
   "cell_type": "code",
   "execution_count": 25,
   "id": "51df3194",
   "metadata": {},
   "outputs": [],
   "source": [
    "fecha = datetime.strptime(ending_date, '%Y-%m-%d')\n",
    "mes = fecha.strftime('%m')"
   ]
  },
  {
   "cell_type": "code",
   "execution_count": 26,
   "id": "bf3201de",
   "metadata": {},
   "outputs": [
    {
     "name": "stdout",
     "output_type": "stream",
     "text": [
      "Indice hidrico:  1\n"
     ]
    }
   ],
   "source": [
    "indice_hidrico = get_index_month_zone(tprom, pr, mes, zona_interes)\n",
    "print('Indice hidrico: ', indice_hidrico)"
   ]
  }
 ],
 "metadata": {
  "kernelspec": {
   "display_name": "Python 3 (ipykernel)",
   "language": "python",
   "name": "python3"
  },
  "language_info": {
   "codemirror_mode": {
    "name": "ipython",
    "version": 3
   },
   "file_extension": ".py",
   "mimetype": "text/x-python",
   "name": "python",
   "nbconvert_exporter": "python",
   "pygments_lexer": "ipython3",
   "version": "3.9.13"
  }
 },
 "nbformat": 4,
 "nbformat_minor": 5
}
